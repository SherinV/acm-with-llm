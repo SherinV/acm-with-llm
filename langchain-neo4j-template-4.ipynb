{
 "cells": [
  {
   "cell_type": "markdown",
   "id": "a9183228-0ba6-4af9-8430-649e28868253",
   "metadata": {
    "id": "JMXGlIvAwn30"
   },
   "source": [
    "# Overview\n",
    "\n",
    "REFERENCE: https://python.langchain.com/docs/use_cases/graph/graph_cypher_qa\n",
    "\n",
    "\n",
    "## Setup"
   ]
  },
  {
   "cell_type": "code",
   "execution_count": 18,
   "id": "98bbc7c4",
   "metadata": {},
   "outputs": [],
   "source": [
    "#!pip install openai"
   ]
  },
  {
   "cell_type": "code",
   "execution_count": 19,
   "id": "125085c2",
   "metadata": {},
   "outputs": [],
   "source": [
    "#!pip install python-dotenv"
   ]
  },
  {
   "cell_type": "code",
   "execution_count": 20,
   "id": "16d796dd",
   "metadata": {},
   "outputs": [],
   "source": [
    "#!pip install  langchain langchain-experimental"
   ]
  },
  {
   "cell_type": "code",
   "execution_count": 21,
   "id": "637ba8a4",
   "metadata": {},
   "outputs": [],
   "source": [
    "#!pip install psycopg2 python-environ"
   ]
  },
  {
   "cell_type": "code",
   "execution_count": 22,
   "id": "7fa0d9b5",
   "metadata": {
    "tags": []
   },
   "outputs": [],
   "source": [
    "import os\n",
    "#import openai\n",
    "from dotenv import load_dotenv, find_dotenv\n",
    "from langchain.llms import OpenAI\n",
    "from langchain.chains import GraphCypherQAChain\n",
    "from langchain.chat_models import ChatOpenAI\n",
    "from langchain.graphs import Neo4jGraph\n",
    "from langchain.prompts.prompt import PromptTemplate\n",
    "\n",
    "_ = load_dotenv(find_dotenv()) \n",
    "#openai.api_key  = os.getenv('OPENAI_API_KEY')\n",
    "API_KEY = os.getenv('OPENAI_API_KEY')\n",
    "DBPASS=os.getenv('DBPASS')\n",
    "DATABASE=os.getenv('DATABASE')\n",
    "NEO4J_PASSWORD=os.getenv('NEO4J_PASSWORD')\n",
    "NEO4J_URL=os.getenv('NEO4J_URL')\n",
    "NEO4J_DB=os.getenv('NEO4J_DB')\n",
    "\n",
    "\n",
    "graph = Neo4jGraph(\n",
    "    url= NEO4J_URL, username=\"neo4j\", password=NEO4J_PASSWORD\n",
    ")"
   ]
  },
  {
   "cell_type": "code",
   "execution_count": 23,
   "id": "ce947945",
   "metadata": {},
   "outputs": [],
   "source": [
    "#print(graph.schema)"
   ]
  },
  {
   "cell_type": "code",
   "execution_count": 24,
   "id": "ff080706",
   "metadata": {},
   "outputs": [],
   "source": [
    "#graph.query(\"match (n:Processor{name:'grafana'})-[r:QUERIES|FORWARDS*]-(m) return n ,r,m\")\n"
   ]
  },
  {
   "cell_type": "code",
   "execution_count": 37,
   "id": "d6a37761",
   "metadata": {},
   "outputs": [],
   "source": [
    "CYPHER_GENERATION_TEMPLATE = \"\"\"Task:Generate Cypher statement to query a graph database.\n",
    "Instructions:\n",
    "Use only the provided relationship types and properties in the schema.\n",
    "Do not use any other relationship types or properties that are not provided.\n",
    "Ignore cases of the names or nouns provided in the question.\n",
    "\n",
    "Schema:\n",
    "{schema}\n",
    "\n",
    "\n",
    "Cypher examples:\n",
    "# How does grafana query data?\n",
    "MATCH p=(:Processor)-[:QUERIES 1..6]->()\n",
    "RETURN p AS path\n",
    "YIELD nodes, relationships RETURN nodes, relationships\n",
    "# How does data get into grafana?\n",
    "match(p)-[r*3]-(q:Processor) return p,q,r\n",
    "# How does Grafana get created?\n",
    "MATCH p=(:Users)-[*1..3]-()-[:CREATES]->(q:Processor)\n",
    "RETURN p AS path\n",
    "# How does grafana get installed?\n",
    "MATCH p=(:Users)-[*1..3]-()-[:CREATES]->(q:Processor)\n",
    "RETURN p AS path\n",
    "#Why do I not see any data in grafana?\n",
    "match(p)-[*3]-(q:Processor) return p,q\n",
    "\n",
    "Note: Do not include any explanations or apologies in your responses.\n",
    "Do not respond to any questions that might ask anything else than for you to construct a Cypher statement.\n",
    "Do not include any text except the generated Cypher statement.\n",
    "Examples: Here are a few examples of generated Cypher statements for particular questions:\n",
    "\n",
    "The question is:\n",
    "{question}\"\"\"\n",
    "\n",
    "CYPHER_GENERATION_PROMPT = PromptTemplate(\n",
    "    input_variables=[\"schema\", \"question\"], template=CYPHER_GENERATION_TEMPLATE\n",
    ")"
   ]
  },
  {
   "cell_type": "code",
   "execution_count": 38,
   "id": "fc386a0b",
   "metadata": {},
   "outputs": [],
   "source": [
    "chain = GraphCypherQAChain.from_llm(\n",
    "    ChatOpenAI(temperature=0), graph=graph, verbose=True,cypher_prompt=CYPHER_GENERATION_PROMPT\n",
    "    \n",
    ")"
   ]
  },
  {
   "cell_type": "markdown",
   "id": "66150670",
   "metadata": {},
   "source": [
    "### This does not add much value: return_intermediate_steps=True"
   ]
  },
  {
   "cell_type": "code",
   "execution_count": 39,
   "id": "a2bd01e1",
   "metadata": {},
   "outputs": [],
   "source": [
    "#chaindetail = GraphCypherQAChain.from_llm(\n",
    "#    ChatOpenAI(temperature=0), graph=graph, verbose=True, return_intermediate_steps=True\n",
    "#)\n",
    "#result = chaindetail(\"How does data get into grafana?\")\n",
    "#print(f\"Intermediate steps: {result['intermediate_steps']}\")\n",
    "#print(f\"Final answer: {result['result']}\")"
   ]
  },
  {
   "cell_type": "code",
   "execution_count": 40,
   "id": "1f092e44",
   "metadata": {},
   "outputs": [
    {
     "name": "stdout",
     "output_type": "stream",
     "text": [
      "\n",
      "\n",
      "\u001b[1m> Entering new GraphCypherQAChain chain...\u001b[0m\n"
     ]
    },
    {
     "ename": "ValueError",
     "evalue": "Missing some input keys: {' relationshipFilter'}",
     "output_type": "error",
     "traceback": [
      "\u001b[0;31m---------------------------------------------------------------------------\u001b[0m",
      "\u001b[0;31mValueError\u001b[0m                                Traceback (most recent call last)",
      "Input \u001b[0;32mIn [40]\u001b[0m, in \u001b[0;36m<cell line: 1>\u001b[0;34m()\u001b[0m\n\u001b[0;32m----> 1\u001b[0m \u001b[43mchain\u001b[49m\u001b[38;5;241;43m.\u001b[39;49m\u001b[43mrun\u001b[49m\u001b[43m(\u001b[49m\u001b[38;5;124;43m\"\u001b[39;49m\u001b[38;5;124;43mHow does data get into grafana?\u001b[39;49m\u001b[38;5;124;43m\"\u001b[39;49m\u001b[43m)\u001b[49m\n",
      "File \u001b[0;32m~/opt/anaconda3/lib/python3.9/site-packages/langchain/chains/base.py:507\u001b[0m, in \u001b[0;36mChain.run\u001b[0;34m(self, callbacks, tags, metadata, *args, **kwargs)\u001b[0m\n\u001b[1;32m    505\u001b[0m     \u001b[38;5;28;01mif\u001b[39;00m \u001b[38;5;28mlen\u001b[39m(args) \u001b[38;5;241m!=\u001b[39m \u001b[38;5;241m1\u001b[39m:\n\u001b[1;32m    506\u001b[0m         \u001b[38;5;28;01mraise\u001b[39;00m \u001b[38;5;167;01mValueError\u001b[39;00m(\u001b[38;5;124m\"\u001b[39m\u001b[38;5;124m`run` supports only one positional argument.\u001b[39m\u001b[38;5;124m\"\u001b[39m)\n\u001b[0;32m--> 507\u001b[0m     \u001b[38;5;28;01mreturn\u001b[39;00m \u001b[38;5;28;43mself\u001b[39;49m\u001b[43m(\u001b[49m\u001b[43margs\u001b[49m\u001b[43m[\u001b[49m\u001b[38;5;241;43m0\u001b[39;49m\u001b[43m]\u001b[49m\u001b[43m,\u001b[49m\u001b[43m \u001b[49m\u001b[43mcallbacks\u001b[49m\u001b[38;5;241;43m=\u001b[39;49m\u001b[43mcallbacks\u001b[49m\u001b[43m,\u001b[49m\u001b[43m \u001b[49m\u001b[43mtags\u001b[49m\u001b[38;5;241;43m=\u001b[39;49m\u001b[43mtags\u001b[49m\u001b[43m,\u001b[49m\u001b[43m \u001b[49m\u001b[43mmetadata\u001b[49m\u001b[38;5;241;43m=\u001b[39;49m\u001b[43mmetadata\u001b[49m\u001b[43m)\u001b[49m[\n\u001b[1;32m    508\u001b[0m         _output_key\n\u001b[1;32m    509\u001b[0m     ]\n\u001b[1;32m    511\u001b[0m \u001b[38;5;28;01mif\u001b[39;00m kwargs \u001b[38;5;129;01mand\u001b[39;00m \u001b[38;5;129;01mnot\u001b[39;00m args:\n\u001b[1;32m    512\u001b[0m     \u001b[38;5;28;01mreturn\u001b[39;00m \u001b[38;5;28mself\u001b[39m(kwargs, callbacks\u001b[38;5;241m=\u001b[39mcallbacks, tags\u001b[38;5;241m=\u001b[39mtags, metadata\u001b[38;5;241m=\u001b[39mmetadata)[\n\u001b[1;32m    513\u001b[0m         _output_key\n\u001b[1;32m    514\u001b[0m     ]\n",
      "File \u001b[0;32m~/opt/anaconda3/lib/python3.9/site-packages/langchain/chains/base.py:312\u001b[0m, in \u001b[0;36mChain.__call__\u001b[0;34m(self, inputs, return_only_outputs, callbacks, tags, metadata, run_name, include_run_info)\u001b[0m\n\u001b[1;32m    310\u001b[0m \u001b[38;5;28;01mexcept\u001b[39;00m \u001b[38;5;167;01mBaseException\u001b[39;00m \u001b[38;5;28;01mas\u001b[39;00m e:\n\u001b[1;32m    311\u001b[0m     run_manager\u001b[38;5;241m.\u001b[39mon_chain_error(e)\n\u001b[0;32m--> 312\u001b[0m     \u001b[38;5;28;01mraise\u001b[39;00m e\n\u001b[1;32m    313\u001b[0m run_manager\u001b[38;5;241m.\u001b[39mon_chain_end(outputs)\n\u001b[1;32m    314\u001b[0m final_outputs: Dict[\u001b[38;5;28mstr\u001b[39m, Any] \u001b[38;5;241m=\u001b[39m \u001b[38;5;28mself\u001b[39m\u001b[38;5;241m.\u001b[39mprep_outputs(\n\u001b[1;32m    315\u001b[0m     inputs, outputs, return_only_outputs\n\u001b[1;32m    316\u001b[0m )\n",
      "File \u001b[0;32m~/opt/anaconda3/lib/python3.9/site-packages/langchain/chains/base.py:306\u001b[0m, in \u001b[0;36mChain.__call__\u001b[0;34m(self, inputs, return_only_outputs, callbacks, tags, metadata, run_name, include_run_info)\u001b[0m\n\u001b[1;32m    299\u001b[0m run_manager \u001b[38;5;241m=\u001b[39m callback_manager\u001b[38;5;241m.\u001b[39mon_chain_start(\n\u001b[1;32m    300\u001b[0m     dumpd(\u001b[38;5;28mself\u001b[39m),\n\u001b[1;32m    301\u001b[0m     inputs,\n\u001b[1;32m    302\u001b[0m     name\u001b[38;5;241m=\u001b[39mrun_name,\n\u001b[1;32m    303\u001b[0m )\n\u001b[1;32m    304\u001b[0m \u001b[38;5;28;01mtry\u001b[39;00m:\n\u001b[1;32m    305\u001b[0m     outputs \u001b[38;5;241m=\u001b[39m (\n\u001b[0;32m--> 306\u001b[0m         \u001b[38;5;28;43mself\u001b[39;49m\u001b[38;5;241;43m.\u001b[39;49m\u001b[43m_call\u001b[49m\u001b[43m(\u001b[49m\u001b[43minputs\u001b[49m\u001b[43m,\u001b[49m\u001b[43m \u001b[49m\u001b[43mrun_manager\u001b[49m\u001b[38;5;241;43m=\u001b[39;49m\u001b[43mrun_manager\u001b[49m\u001b[43m)\u001b[49m\n\u001b[1;32m    307\u001b[0m         \u001b[38;5;28;01mif\u001b[39;00m new_arg_supported\n\u001b[1;32m    308\u001b[0m         \u001b[38;5;28;01melse\u001b[39;00m \u001b[38;5;28mself\u001b[39m\u001b[38;5;241m.\u001b[39m_call(inputs)\n\u001b[1;32m    309\u001b[0m     )\n\u001b[1;32m    310\u001b[0m \u001b[38;5;28;01mexcept\u001b[39;00m \u001b[38;5;167;01mBaseException\u001b[39;00m \u001b[38;5;28;01mas\u001b[39;00m e:\n\u001b[1;32m    311\u001b[0m     run_manager\u001b[38;5;241m.\u001b[39mon_chain_error(e)\n",
      "File \u001b[0;32m~/opt/anaconda3/lib/python3.9/site-packages/langchain/chains/graph_qa/cypher.py:246\u001b[0m, in \u001b[0;36mGraphCypherQAChain._call\u001b[0;34m(self, inputs, run_manager)\u001b[0m\n\u001b[1;32m    242\u001b[0m question \u001b[38;5;241m=\u001b[39m inputs[\u001b[38;5;28mself\u001b[39m\u001b[38;5;241m.\u001b[39minput_key]\n\u001b[1;32m    244\u001b[0m intermediate_steps: List \u001b[38;5;241m=\u001b[39m []\n\u001b[0;32m--> 246\u001b[0m generated_cypher \u001b[38;5;241m=\u001b[39m \u001b[38;5;28;43mself\u001b[39;49m\u001b[38;5;241;43m.\u001b[39;49m\u001b[43mcypher_generation_chain\u001b[49m\u001b[38;5;241;43m.\u001b[39;49m\u001b[43mrun\u001b[49m\u001b[43m(\u001b[49m\n\u001b[1;32m    247\u001b[0m \u001b[43m    \u001b[49m\u001b[43m{\u001b[49m\u001b[38;5;124;43m\"\u001b[39;49m\u001b[38;5;124;43mquestion\u001b[39;49m\u001b[38;5;124;43m\"\u001b[39;49m\u001b[43m:\u001b[49m\u001b[43m \u001b[49m\u001b[43mquestion\u001b[49m\u001b[43m,\u001b[49m\u001b[43m \u001b[49m\u001b[38;5;124;43m\"\u001b[39;49m\u001b[38;5;124;43mschema\u001b[39;49m\u001b[38;5;124;43m\"\u001b[39;49m\u001b[43m:\u001b[49m\u001b[43m \u001b[49m\u001b[38;5;28;43mself\u001b[39;49m\u001b[38;5;241;43m.\u001b[39;49m\u001b[43mgraph_schema\u001b[49m\u001b[43m}\u001b[49m\u001b[43m,\u001b[49m\u001b[43m \u001b[49m\u001b[43mcallbacks\u001b[49m\u001b[38;5;241;43m=\u001b[39;49m\u001b[43mcallbacks\u001b[49m\n\u001b[1;32m    248\u001b[0m \u001b[43m\u001b[49m\u001b[43m)\u001b[49m\n\u001b[1;32m    250\u001b[0m \u001b[38;5;66;03m# Extract Cypher code if it is wrapped in backticks\u001b[39;00m\n\u001b[1;32m    251\u001b[0m generated_cypher \u001b[38;5;241m=\u001b[39m extract_cypher(generated_cypher)\n",
      "File \u001b[0;32m~/opt/anaconda3/lib/python3.9/site-packages/langchain/chains/base.py:507\u001b[0m, in \u001b[0;36mChain.run\u001b[0;34m(self, callbacks, tags, metadata, *args, **kwargs)\u001b[0m\n\u001b[1;32m    505\u001b[0m     \u001b[38;5;28;01mif\u001b[39;00m \u001b[38;5;28mlen\u001b[39m(args) \u001b[38;5;241m!=\u001b[39m \u001b[38;5;241m1\u001b[39m:\n\u001b[1;32m    506\u001b[0m         \u001b[38;5;28;01mraise\u001b[39;00m \u001b[38;5;167;01mValueError\u001b[39;00m(\u001b[38;5;124m\"\u001b[39m\u001b[38;5;124m`run` supports only one positional argument.\u001b[39m\u001b[38;5;124m\"\u001b[39m)\n\u001b[0;32m--> 507\u001b[0m     \u001b[38;5;28;01mreturn\u001b[39;00m \u001b[38;5;28;43mself\u001b[39;49m\u001b[43m(\u001b[49m\u001b[43margs\u001b[49m\u001b[43m[\u001b[49m\u001b[38;5;241;43m0\u001b[39;49m\u001b[43m]\u001b[49m\u001b[43m,\u001b[49m\u001b[43m \u001b[49m\u001b[43mcallbacks\u001b[49m\u001b[38;5;241;43m=\u001b[39;49m\u001b[43mcallbacks\u001b[49m\u001b[43m,\u001b[49m\u001b[43m \u001b[49m\u001b[43mtags\u001b[49m\u001b[38;5;241;43m=\u001b[39;49m\u001b[43mtags\u001b[49m\u001b[43m,\u001b[49m\u001b[43m \u001b[49m\u001b[43mmetadata\u001b[49m\u001b[38;5;241;43m=\u001b[39;49m\u001b[43mmetadata\u001b[49m\u001b[43m)\u001b[49m[\n\u001b[1;32m    508\u001b[0m         _output_key\n\u001b[1;32m    509\u001b[0m     ]\n\u001b[1;32m    511\u001b[0m \u001b[38;5;28;01mif\u001b[39;00m kwargs \u001b[38;5;129;01mand\u001b[39;00m \u001b[38;5;129;01mnot\u001b[39;00m args:\n\u001b[1;32m    512\u001b[0m     \u001b[38;5;28;01mreturn\u001b[39;00m \u001b[38;5;28mself\u001b[39m(kwargs, callbacks\u001b[38;5;241m=\u001b[39mcallbacks, tags\u001b[38;5;241m=\u001b[39mtags, metadata\u001b[38;5;241m=\u001b[39mmetadata)[\n\u001b[1;32m    513\u001b[0m         _output_key\n\u001b[1;32m    514\u001b[0m     ]\n",
      "File \u001b[0;32m~/opt/anaconda3/lib/python3.9/site-packages/langchain/chains/base.py:288\u001b[0m, in \u001b[0;36mChain.__call__\u001b[0;34m(self, inputs, return_only_outputs, callbacks, tags, metadata, run_name, include_run_info)\u001b[0m\n\u001b[1;32m    252\u001b[0m \u001b[38;5;28;01mdef\u001b[39;00m \u001b[38;5;21m__call__\u001b[39m(\n\u001b[1;32m    253\u001b[0m     \u001b[38;5;28mself\u001b[39m,\n\u001b[1;32m    254\u001b[0m     inputs: Union[Dict[\u001b[38;5;28mstr\u001b[39m, Any], Any],\n\u001b[0;32m   (...)\u001b[0m\n\u001b[1;32m    261\u001b[0m     include_run_info: \u001b[38;5;28mbool\u001b[39m \u001b[38;5;241m=\u001b[39m \u001b[38;5;28;01mFalse\u001b[39;00m,\n\u001b[1;32m    262\u001b[0m ) \u001b[38;5;241m-\u001b[39m\u001b[38;5;241m>\u001b[39m Dict[\u001b[38;5;28mstr\u001b[39m, Any]:\n\u001b[1;32m    263\u001b[0m     \u001b[38;5;124;03m\"\"\"Execute the chain.\u001b[39;00m\n\u001b[1;32m    264\u001b[0m \n\u001b[1;32m    265\u001b[0m \u001b[38;5;124;03m    Args:\u001b[39;00m\n\u001b[0;32m   (...)\u001b[0m\n\u001b[1;32m    286\u001b[0m \u001b[38;5;124;03m            `Chain.output_keys`.\u001b[39;00m\n\u001b[1;32m    287\u001b[0m \u001b[38;5;124;03m    \"\"\"\u001b[39;00m\n\u001b[0;32m--> 288\u001b[0m     inputs \u001b[38;5;241m=\u001b[39m \u001b[38;5;28;43mself\u001b[39;49m\u001b[38;5;241;43m.\u001b[39;49m\u001b[43mprep_inputs\u001b[49m\u001b[43m(\u001b[49m\u001b[43minputs\u001b[49m\u001b[43m)\u001b[49m\n\u001b[1;32m    289\u001b[0m     callback_manager \u001b[38;5;241m=\u001b[39m CallbackManager\u001b[38;5;241m.\u001b[39mconfigure(\n\u001b[1;32m    290\u001b[0m         callbacks,\n\u001b[1;32m    291\u001b[0m         \u001b[38;5;28mself\u001b[39m\u001b[38;5;241m.\u001b[39mcallbacks,\n\u001b[0;32m   (...)\u001b[0m\n\u001b[1;32m    296\u001b[0m         \u001b[38;5;28mself\u001b[39m\u001b[38;5;241m.\u001b[39mmetadata,\n\u001b[1;32m    297\u001b[0m     )\n\u001b[1;32m    298\u001b[0m     new_arg_supported \u001b[38;5;241m=\u001b[39m inspect\u001b[38;5;241m.\u001b[39msignature(\u001b[38;5;28mself\u001b[39m\u001b[38;5;241m.\u001b[39m_call)\u001b[38;5;241m.\u001b[39mparameters\u001b[38;5;241m.\u001b[39mget(\u001b[38;5;124m\"\u001b[39m\u001b[38;5;124mrun_manager\u001b[39m\u001b[38;5;124m\"\u001b[39m)\n",
      "File \u001b[0;32m~/opt/anaconda3/lib/python3.9/site-packages/langchain/chains/base.py:445\u001b[0m, in \u001b[0;36mChain.prep_inputs\u001b[0;34m(self, inputs)\u001b[0m\n\u001b[1;32m    443\u001b[0m     external_context \u001b[38;5;241m=\u001b[39m \u001b[38;5;28mself\u001b[39m\u001b[38;5;241m.\u001b[39mmemory\u001b[38;5;241m.\u001b[39mload_memory_variables(inputs)\n\u001b[1;32m    444\u001b[0m     inputs \u001b[38;5;241m=\u001b[39m \u001b[38;5;28mdict\u001b[39m(inputs, \u001b[38;5;241m*\u001b[39m\u001b[38;5;241m*\u001b[39mexternal_context)\n\u001b[0;32m--> 445\u001b[0m \u001b[38;5;28;43mself\u001b[39;49m\u001b[38;5;241;43m.\u001b[39;49m\u001b[43m_validate_inputs\u001b[49m\u001b[43m(\u001b[49m\u001b[43minputs\u001b[49m\u001b[43m)\u001b[49m\n\u001b[1;32m    446\u001b[0m \u001b[38;5;28;01mreturn\u001b[39;00m inputs\n",
      "File \u001b[0;32m~/opt/anaconda3/lib/python3.9/site-packages/langchain/chains/base.py:197\u001b[0m, in \u001b[0;36mChain._validate_inputs\u001b[0;34m(self, inputs)\u001b[0m\n\u001b[1;32m    195\u001b[0m missing_keys \u001b[38;5;241m=\u001b[39m \u001b[38;5;28mset\u001b[39m(\u001b[38;5;28mself\u001b[39m\u001b[38;5;241m.\u001b[39minput_keys)\u001b[38;5;241m.\u001b[39mdifference(inputs)\n\u001b[1;32m    196\u001b[0m \u001b[38;5;28;01mif\u001b[39;00m missing_keys:\n\u001b[0;32m--> 197\u001b[0m     \u001b[38;5;28;01mraise\u001b[39;00m \u001b[38;5;167;01mValueError\u001b[39;00m(\u001b[38;5;124mf\u001b[39m\u001b[38;5;124m\"\u001b[39m\u001b[38;5;124mMissing some input keys: \u001b[39m\u001b[38;5;132;01m{\u001b[39;00mmissing_keys\u001b[38;5;132;01m}\u001b[39;00m\u001b[38;5;124m\"\u001b[39m)\n",
      "\u001b[0;31mValueError\u001b[0m: Missing some input keys: {' relationshipFilter'}"
     ]
    }
   ],
   "source": [
    "chain.run(\"How does data get into grafana?\")"
   ]
  },
  {
   "cell_type": "code",
   "execution_count": 95,
   "id": "cb9fb268",
   "metadata": {},
   "outputs": [
    {
     "name": "stdout",
     "output_type": "stream",
     "text": [
      "\n",
      "\n",
      "\u001b[1m> Entering new GraphCypherQAChain chain...\u001b[0m\n",
      "Generated Cypher:\n",
      "\u001b[32;1m\u001b[1;3mMATCH (u:Users)-[:CREATES]->(n)\n",
      "RETURN n.name\u001b[0m\n",
      "Full Context:\n",
      "\u001b[32;1m\u001b[1;3m[{'n.name': '{cluster-name}'}, {'n.name': 'AddOnDeploymentConfig-CR'}, {'n.name': '{addon-name}'}, {'n.name': 'KlusterletOperator'}, {'n.name': 'bootstrap-hub-kubeconfig'}, {'n.name': '{cluster-name}'}, {'n.name': 'ThanosObjectStoreSecret'}, {'n.name': 'ObservabilityNamespace'}, {'n.name': 'MCO-CR'}]\u001b[0m\n",
      "\n",
      "\u001b[1m> Finished chain.\u001b[0m\n"
     ]
    },
    {
     "data": {
      "text/plain": [
       "'The names of the things that Users create are: {cluster-name}, AddOnDeploymentConfig-CR, {addon-name}, KlusterletOperator, bootstrap-hub-kubeconfig, {cluster-name}, ThanosObjectStoreSecret, ObservabilityNamespace, and MCO-CR.'"
      ]
     },
     "execution_count": 95,
     "metadata": {},
     "output_type": "execute_result"
    }
   ],
   "source": [
    "chain.run(\"What are the names of the things that Users create?\")"
   ]
  },
  {
   "cell_type": "code",
   "execution_count": 96,
   "id": "e1d80557",
   "metadata": {},
   "outputs": [
    {
     "name": "stdout",
     "output_type": "stream",
     "text": [
      "\n",
      "\n",
      "\u001b[1m> Entering new GraphCypherQAChain chain...\u001b[0m\n",
      "Generated Cypher:\n",
      "\u001b[32;1m\u001b[1;3mMATCH p=(:Users)-[*1..3]-()-[:CREATES]->(:Processor {name: \"alert-manager\"})\n",
      "RETURN p AS path\u001b[0m\n",
      "Full Context:\n",
      "\u001b[32;1m\u001b[1;3m[{'path': [{'name': 'User', 'entity': 'Users'}, 'CREATES', {'namespace': 'cluster-scoped', 'name': 'MCO-CR', 'onHub': 'true', 'type': 'Custom Resource', 'entity': 'API', 'onManaged': 'false'}, 'WATCHES', {'namespace': 'open-cluster-management', 'name': 'MulticlusterObservabilityOperator', 'onHub': 'true', 'type': 'Controller', 'entity': 'Processor', 'onManaged': 'false'}, 'CREATES', {'namespace': 'open-cluster-management-observability', 'name': 'alert-manager', 'onHub': 'true', 'type': 'Pod', 'entity': 'Processor', 'onManaged': 'false'}]}]\u001b[0m\n",
      "\n",
      "\u001b[1m> Finished chain.\u001b[0m\n"
     ]
    },
    {
     "data": {
      "text/plain": [
       "'The alert-manager gets created through a series of actions. First, the User creates a Custom Resource called MCO-CR in the cluster-scoped namespace. This Custom Resource is set to watch the MulticlusterObservabilityOperator, which is a Controller in the open-cluster-management namespace. Finally, the MulticlusterObservabilityOperator creates the alert-manager Pod in the open-cluster-management-observability namespace.'"
      ]
     },
     "execution_count": 96,
     "metadata": {},
     "output_type": "execute_result"
    }
   ],
   "source": [
    "chain.run(\"How does alert-manager get created?\")"
   ]
  },
  {
   "cell_type": "code",
   "execution_count": 97,
   "id": "e8ee1be4",
   "metadata": {},
   "outputs": [
    {
     "name": "stdout",
     "output_type": "stream",
     "text": [
      "\n",
      "\n",
      "\u001b[1m> Entering new GraphCypherQAChain chain...\u001b[0m\n",
      "Generated Cypher:\n",
      "\u001b[32;1m\u001b[1;3mMATCH (p)-[*3]-(q:Processor)\n",
      "RETURN p, q\u001b[0m\n",
      "Full Context:\n",
      "\u001b[32;1m\u001b[1;3m[{'p': {'name': 'Github Actions', 'type': 'github', 'entity': 'Processor'}, 'q': {'name': 'Github Actions', 'type': 'github', 'entity': 'Processor'}}, {'p': {'kind': 'main', 'name': 'Open Cluster Management', 'type': 'github', 'entity': 'Repository', 'group': 'policy'}, 'q': {'name': 'Github Actions', 'type': 'github', 'entity': 'Processor'}}, {'p': {'kind': 'main', 'name': 'stolostron', 'type': 'github', 'entity': 'Repository', 'group': 'policy'}, 'q': {'name': 'Github Actions', 'type': 'github', 'entity': 'Processor'}}, {'p': {'namespace': 'cluster-scoped', 'name': 'MCO-CR', 'onHub': 'true', 'type': 'Custom Resource', 'entity': 'API', 'onManaged': 'false'}, 'q': {'name': 'Github Actions', 'type': 'github', 'entity': 'Processor'}}, {'p': {'namespace': 'open-cluster-management-observability', 'name': 'ObservabilityNamespace', 'onHub': 'true', 'type': 'Namespace', 'entity': 'IntermediateResource', 'onManaged': 'false'}, 'q': {'name': 'Github Actions', 'type': 'github', 'entity': 'Processor'}}, {'p': {'namespace': 'open-cluster-management-observability', 'name': 'ThanosObjectStoreSecret', 'onHub': 'true', 'type': 'Secret', 'entity': 'IntermediateResource', 'onManaged': 'false'}, 'q': {'name': 'Github Actions', 'type': 'github', 'entity': 'Processor'}}, {'p': {'kind': 'ManagedClusterAddOn', 'namespace': '{cluster-name}', 'name': '{addon-name}', 'onHub': 'true', 'type': 'Kubernetes', 'entity': 'API', 'group': 'addon.open-cluster-management.io', 'onManaged': 'false'}, 'q': {'name': 'Github Actions', 'type': 'github', 'entity': 'Processor'}}, {'p': {'kind': 'AddOnDeploymentConfig', 'namespace': '{user-defined-namespace}', 'name': '{user-defined-name}', 'onHub': 'true', 'type': 'Kubernetes', 'entity': 'API', 'group': 'addon.open-cluster-management.io', 'onManaged': 'false'}, 'q': {'name': 'Github Actions', 'type': 'github', 'entity': 'Processor'}}, {'p': {'kind': 'KlusterletAddonConfig', 'namespace': '{cluster-name}', 'name': '{cluster-name}', 'onHub': 'true', 'type': 'Kubernetes', 'entity': 'API', 'group': 'agent.open-cluster-management.io', 'onManaged': 'false'}, 'q': {'name': 'Github Actions', 'type': 'github', 'entity': 'Processor'}}, {'p': {'namespace': 'cluster-scoped', 'name': '{cluster-name}', 'onHub': 'true', 'type': 'ManagedCluster', 'entity': 'API', 'onManaged': 'false'}, 'q': {'name': 'Github Actions', 'type': 'github', 'entity': 'Processor'}}]\u001b[0m\n",
      "\n",
      "\u001b[1m> Finished chain.\u001b[0m\n"
     ]
    },
    {
     "data": {
      "text/plain": [
       "'There could be several reasons why you are not seeing any data in Grafana. It could be due to the configuration of Github Actions, Open Cluster Management, or other related components. It is also possible that there is an issue with the data sources or queries being used in Grafana. To troubleshoot this issue, you may need to check the settings and configurations of these components, ensure that the necessary data sources are properly configured, and verify that the queries being used in Grafana are correct.'"
      ]
     },
     "execution_count": 97,
     "metadata": {},
     "output_type": "execute_result"
    }
   ],
   "source": [
    "chain.run(\"Why do I not see any data in grafana\")"
   ]
  },
  {
   "cell_type": "code",
   "execution_count": 98,
   "id": "51e81a95",
   "metadata": {},
   "outputs": [
    {
     "name": "stdout",
     "output_type": "stream",
     "text": [
      "\n",
      "\n",
      "\u001b[1m> Entering new GraphCypherQAChain chain...\u001b[0m\n",
      "Generated Cypher:\n",
      "\u001b[32;1m\u001b[1;3mMATCH p=(:Users)-[*1..3]-()-[:CREATES]->(q:Processor)\n",
      "RETURN p AS path\u001b[0m\n",
      "Full Context:\n",
      "\u001b[32;1m\u001b[1;3m[{'path': [{'name': 'User', 'entity': 'Users'}, 'CREATES', {'namespace': 'cluster-scoped', 'name': 'MCO-CR', 'onHub': 'true', 'type': 'Custom Resource', 'entity': 'API', 'onManaged': 'false'}, 'WATCHES', {'namespace': 'open-cluster-management', 'name': 'MulticlusterObservabilityOperator', 'onHub': 'true', 'type': 'Controller', 'entity': 'Processor', 'onManaged': 'false'}, 'CREATES', {'namespace': 'open-cluster-management-observability', 'name': 'alert-manager', 'onHub': 'true', 'type': 'Pod', 'entity': 'Processor', 'onManaged': 'false'}]}, {'path': [{'name': 'User', 'entity': 'Users'}, 'CREATES', {'namespace': 'cluster-scoped', 'name': 'MCO-CR', 'onHub': 'true', 'type': 'Custom Resource', 'entity': 'API', 'onManaged': 'false'}, 'WATCHES', {'namespace': 'open-cluster-management', 'name': 'MulticlusterObservabilityOperator', 'onHub': 'true', 'type': 'Controller', 'entity': 'Processor', 'onManaged': 'false'}, 'CREATES', {'namespace': 'open-cluster-management-observability', 'name': 'grafana', 'onHub': 'true', 'type': 'Pod', 'entity': 'Processor', 'onManaged': 'false'}]}, {'path': [{'name': 'User', 'entity': 'Users'}, 'CREATES', {'namespace': 'cluster-scoped', 'name': 'MCO-CR', 'onHub': 'true', 'type': 'Custom Resource', 'entity': 'API', 'onManaged': 'false'}, 'WATCHES', {'namespace': 'open-cluster-management', 'name': 'MulticlusterObservabilityOperator', 'onHub': 'true', 'type': 'Controller', 'entity': 'Processor', 'onManaged': 'false'}, 'CREATES', {'namespace': 'open-cluster-management-observability', 'name': 'rbac-query-proxy', 'onHub': 'true', 'type': 'Pod', 'entity': 'Processor', 'onManaged': 'false'}]}, {'path': [{'name': 'User', 'entity': 'Users'}, 'CREATES', {'namespace': 'cluster-scoped', 'name': 'MCO-CR', 'onHub': 'true', 'type': 'Custom Resource', 'entity': 'API', 'onManaged': 'false'}, 'WATCHES', {'namespace': 'open-cluster-management', 'name': 'MulticlusterObservabilityOperator', 'onHub': 'true', 'type': 'Controller', 'entity': 'Processor', 'onManaged': 'false'}, 'CREATES', {'namespace': 'open-cluster-management-observability', 'name': 'Observatorium-api', 'onHub': 'true', 'type': 'Pod', 'entity': 'Processor', 'onManaged': 'false'}]}, {'path': [{'name': 'User', 'entity': 'Users'}, 'CREATES', {'namespace': 'cluster-scoped', 'name': 'MCO-CR', 'onHub': 'true', 'type': 'Custom Resource', 'entity': 'API', 'onManaged': 'false'}, 'WATCHES', {'namespace': 'open-cluster-management', 'name': 'MulticlusterObservabilityOperator', 'onHub': 'true', 'type': 'Controller', 'entity': 'Processor', 'onManaged': 'false'}, 'CREATES', {'namespace': 'open-cluster-management-observability', 'name': 'ObservatoriumOperator', 'onHub': 'true', 'type': 'Controller', 'entity': 'Processor', 'onManaged': 'false'}]}, {'path': [{'name': 'User', 'entity': 'Users'}, 'CREATES', {'namespace': 'cluster-scoped', 'name': 'MCO-CR', 'onHub': 'true', 'type': 'Custom Resource', 'entity': 'API', 'onManaged': 'false'}, 'WATCHES', {'namespace': 'open-cluster-management', 'name': 'MulticlusterObservabilityOperator', 'onHub': 'true', 'type': 'Controller', 'entity': 'Processor', 'onManaged': 'false'}, 'CREATES', {'namespace': 'open-cluster-management-observability', 'name': 'ObservatoriumOperator', 'onHub': 'true', 'type': 'Controller', 'entity': 'Processor', 'onManaged': 'false'}, 'CREATES', {'namespace': 'open-cluster-management-observability', 'name': 'Thanos Ruler', 'onHub': 'true', 'type': 'Pod', 'entity': 'Processor', 'onManaged': 'false'}]}, {'path': [{'name': 'User', 'entity': 'Users'}, 'CREATES', {'namespace': 'cluster-scoped', 'name': 'MCO-CR', 'onHub': 'true', 'type': 'Custom Resource', 'entity': 'API', 'onManaged': 'false'}, 'WATCHES', {'namespace': 'open-cluster-management', 'name': 'MulticlusterObservabilityOperator', 'onHub': 'true', 'type': 'Controller', 'entity': 'Processor', 'onManaged': 'false'}, 'CREATES', {'namespace': 'open-cluster-management-observability', 'name': 'ObservatoriumOperator', 'onHub': 'true', 'type': 'Controller', 'entity': 'Processor', 'onManaged': 'false'}, 'CREATES', {'namespace': 'open-cluster-management-observability', 'name': 'Thanos Query Frontend Cache', 'onHub': 'true', 'type': 'Cache', 'entity': 'Processor', 'onManaged': 'false'}]}, {'path': [{'name': 'User', 'entity': 'Users'}, 'CREATES', {'namespace': 'cluster-scoped', 'name': 'MCO-CR', 'onHub': 'true', 'type': 'Custom Resource', 'entity': 'API', 'onManaged': 'false'}, 'WATCHES', {'namespace': 'open-cluster-management', 'name': 'MulticlusterObservabilityOperator', 'onHub': 'true', 'type': 'Controller', 'entity': 'Processor', 'onManaged': 'false'}, 'CREATES', {'namespace': 'open-cluster-management-observability', 'name': 'ObservatoriumOperator', 'onHub': 'true', 'type': 'Controller', 'entity': 'Processor', 'onManaged': 'false'}, 'CREATES', {'namespace': 'open-cluster-management-observability', 'name': 'Thanos Query Frontend', 'onHub': 'true', 'type': 'Cache', 'entity': 'Processor', 'onManaged': 'false'}]}, {'path': [{'name': 'User', 'entity': 'Users'}, 'CREATES', {'namespace': 'cluster-scoped', 'name': 'MCO-CR', 'onHub': 'true', 'type': 'Custom Resource', 'entity': 'API', 'onManaged': 'false'}, 'WATCHES', {'namespace': 'open-cluster-management', 'name': 'MulticlusterObservabilityOperator', 'onHub': 'true', 'type': 'Controller', 'entity': 'Processor', 'onManaged': 'false'}, 'CREATES', {'namespace': 'open-cluster-management-observability', 'name': 'ObservatoriumOperator', 'onHub': 'true', 'type': 'Controller', 'entity': 'Processor', 'onManaged': 'false'}, 'CREATES', {'namespace': 'open-cluster-management-observability', 'name': 'Thanos Querier', 'onHub': 'true', 'type': 'Cache', 'entity': 'Processor', 'onManaged': 'false'}]}, {'path': [{'name': 'User', 'entity': 'Users'}, 'CREATES', {'namespace': 'cluster-scoped', 'name': 'MCO-CR', 'onHub': 'true', 'type': 'Custom Resource', 'entity': 'API', 'onManaged': 'false'}, 'WATCHES', {'namespace': 'open-cluster-management', 'name': 'MulticlusterObservabilityOperator', 'onHub': 'true', 'type': 'Controller', 'entity': 'Processor', 'onManaged': 'false'}, 'CREATES', {'namespace': 'open-cluster-management-observability', 'name': 'ObservatoriumOperator', 'onHub': 'true', 'type': 'Controller', 'entity': 'Processor', 'onManaged': 'false'}, 'CREATES', {'namespace': 'open-cluster-management-observability', 'name': 'Thanos Store Cache', 'onHub': 'true', 'type': 'Cache', 'entity': 'Processor', 'onManaged': 'false'}]}]\u001b[0m\n",
      "\n",
      "\u001b[1m> Finished chain.\u001b[0m\n"
     ]
    },
    {
     "data": {
      "text/plain": [
       "'Grafana gets created through a series of steps. First, a user creates a custom resource called MCO-CR in the cluster-scoped namespace. Then, the MulticlusterObservabilityOperator, which is a controller in the open-cluster-management namespace, watches for this custom resource. Once the MulticlusterObservabilityOperator detects the creation of the MCO-CR, it creates a pod called grafana in the open-cluster-management-observability namespace.'"
      ]
     },
     "execution_count": 98,
     "metadata": {},
     "output_type": "execute_result"
    }
   ],
   "source": [
    "chain.run(\"How does grafana get created?\")"
   ]
  },
  {
   "cell_type": "code",
   "execution_count": null,
   "id": "97397df4",
   "metadata": {},
   "outputs": [],
   "source": []
  }
 ],
 "metadata": {
  "kernelspec": {
   "display_name": "Python 3 (ipykernel)",
   "language": "python",
   "name": "python3"
  },
  "language_info": {
   "codemirror_mode": {
    "name": "ipython",
    "version": 3
   },
   "file_extension": ".py",
   "mimetype": "text/x-python",
   "name": "python",
   "nbconvert_exporter": "python",
   "pygments_lexer": "ipython3",
   "version": "3.9.12"
  }
 },
 "nbformat": 4,
 "nbformat_minor": 5
}
